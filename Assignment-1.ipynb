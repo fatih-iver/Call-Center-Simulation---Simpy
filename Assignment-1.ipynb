{
 "cells": [
  {
   "cell_type": "markdown",
   "metadata": {},
   "source": [
    "# IE 306.02 Assignment 1 \n",
    "\n",
    "## Call Center Simulation"
   ]
  },
  {
   "cell_type": "markdown",
   "metadata": {},
   "source": [
    "Imports of random, math, numpy and simpy:"
   ]
  },
  {
   "cell_type": "code",
   "execution_count": null,
   "metadata": {},
   "outputs": [],
   "source": [
    "import simpy\n",
    "import random\n",
    "import numpy as np\n",
    "import math"
   ]
  },
  {
   "cell_type": "markdown",
   "metadata": {},
   "source": [
    "Initializations of the constant parameters:"
   ]
  },
  {
   "cell_type": "code",
   "execution_count": null,
   "metadata": {},
   "outputs": [],
   "source": [
    "# CONSTANTS\n",
    "PATIENCE_MEAN = 60\n",
    "INTER_ARRIVAL_TIME_MEAN = 14.3\n",
    "FRONT_DESK_OPERATOR_SERVICE_TIME_MEAN = 7.2\n",
    "FRONT_DESK_OPERATOR_SERVICE_TIME_STD = 2.7\n",
    "FRONT_DESK_OPERATOR_MU = math.log(FRONT_DESK_OPERATOR_SERVICE_TIME_MEAN) - 0.5 * math.log(\n",
    "    (FRONT_DESK_OPERATOR_SERVICE_TIME_STD / FRONT_DESK_OPERATOR_SERVICE_TIME_MEAN) ** 2 + 1)\n",
    "FRONT_DESK_OPERATOR_SIGMA = (math.log(\n",
    "    (FRONT_DESK_OPERATOR_SERVICE_TIME_STD / FRONT_DESK_OPERATOR_SERVICE_TIME_MEAN) ** 2 + 1)) ** 0.5\n",
    "EXPERT_OPERATOR_SERVICE_TIME_MEAN = 10.2\n",
    "EXPERT_OPERATOR_BREAK_RATE = 60\n",
    "EXPERT_OPERATOR_BREAK_TIME = 3\n",
    "EXPERT_OPERATOR_POISSON_THRESHOLD = math.exp(-1 * EXPERT_OPERATOR_BREAK_RATE)\n",
    "SHIFT_DURATION = 480\n",
    "CUSTOMER_COUNT = 125"
   ]
  },
  {
   "cell_type": "markdown",
   "metadata": {},
   "source": [
    "Declaration of parameters that are going to be used during the whole process:"
   ]
  },
  {
   "cell_type": "code",
   "execution_count": null,
   "metadata": {},
   "outputs": [],
   "source": [
    "# STAT HOLDERS\n",
    "front_desk_operator_busy_time = 0\n",
    "expert_operator_busy_time = 0\n",
    "front_desk_operator_waiting_times = [0] * CUSTOMER_COUNT\n",
    "expert_operator_waiting_times = [0] * CUSTOMER_COUNT\n",
    "total_system_times = [0] * CUSTOMER_COUNT\n",
    "total_shift_time = 0"
   ]
  },
  {
   "cell_type": "markdown",
   "metadata": {},
   "source": [
    "#### The function that generates poisson distribution"
   ]
  },
  {
   "cell_type": "code",
   "execution_count": null,
   "metadata": {},
   "outputs": [],
   "source": [
    "def poisson():\n",
    "    n, P = 0, 1\n",
    "    while True:\n",
    "        P *= random.random()\n",
    "        if P < EXPERT_OPERATOR_POISSON_THRESHOLD:\n",
    "            return n\n",
    "        n += 1"
   ]
  },
  {
   "cell_type": "markdown",
   "metadata": {},
   "source": [
    "### Customer Class Definition"
   ]
  },
  {
   "cell_type": "code",
   "execution_count": null,
   "metadata": {},
   "outputs": [],
   "source": [
    "class Customer:\n",
    "    customers_served_or_reneged = CUSTOMER_COUNT\n",
    "\n",
    "    def __init__(self, id, environment, front_desk_operator, expert_operator):\n",
    "        self.id = id\n",
    "        self.name = f'Customer {self.id}'\n",
    "        self.environment = environment\n",
    "        self.front_desk_operator = front_desk_operator\n",
    "        self.expert_operator = expert_operator\n",
    "        self.action = self.environment.process(self.call())\n",
    "\n",
    "    def call(self):\n",
    "        global front_desk_operator_busy_time, expert_operator_busy_time, \\\n",
    "            front_desk_operator_waiting_times, expert_operator_waiting_times, total_system_times, total\n",
    "\n",
    "        print(f'{self.name} initiated call at {self.environment.now}') #prints the customer number and calling time\n",
    "        total_system_time_start = self.environment.now #Total system time has now started\n",
    "        front_desk_operator_wait_start = self.environment.now #Front desk operator waiting time has now started\n",
    "        with self.front_desk_operator.request() as request:\n",
    "            yield request\n",
    "\n",
    "            front_desk_operator_wait_end = self.environment.now #Waiting front desk operator finished now\n",
    "            front_desk_operator_waiting_times[self.id] = front_desk_operator_wait_end - front_desk_operator_wait_start #Calculate and assign the value of waiting time\n",
    "\n",
    "            front_desk_operator_busy_time_start = self.environment.now #Now started to get service from front desk\n",
    "            print(f'{self.name} started talking to the front desk operator at {self.environment.now}') #prints the customer name and calling time\n",
    "            yield self.environment.timeout(random.lognormvariate(FRONT_DESK_OPERATOR_MU, FRONT_DESK_OPERATOR_SIGMA))\n",
    "\n",
    "            front_desk_operator_busy_time_end = self.environment.now #Now finished getting service from front desk\n",
    "            front_desk_operator_busy_time += front_desk_operator_busy_time_end - front_desk_operator_busy_time_start #Calculate and add the value of service time to front desk operator's total service time\n",
    "            print(f'{self.name} finished talking to the front desk operator at {self.environment.now}') #prints the customer name and calling time\n",
    "\n",
    "        expert_operator_wait_start = self.environment.now #Expert operator waiting time has now started\n",
    "        with self.expert_operator.request() as request:\n",
    "            patience = random.expovariate(1 / PATIENCE_MEAN) #Renege time of a customer is exponentially distributed\n",
    "            results = yield request | self.environment.timeout(patience) #Results is either equal to expert operator's request or renege time\n",
    "\n",
    "            expert_operator_wait_end = self.environment.now #Waiting expert operator finished now\n",
    "            expert_operator_waiting_times[self.id] = expert_operator_wait_end - expert_operator_wait_start #Calculate and assign the value of waiting time\n",
    "\n",
    "            if request not in results: #In the case of the customer reneged\n",
    "                print(f'{self.name} reneged at {self.environment.now} after waiting '\n",
    "                      f'for {patience} minutes on the expert operator\\'s queue')\n",
    "                total_system_time_end = self.environment.now \n",
    "                total_system_times[self.id] = total_system_time_end - total_system_time_start #Calculate and assign the value of total system time\n",
    "                Customer.customers_served_or_reneged -= 1 #Customer quit the system, so decrease the number of customers\n",
    "                self.environment.exit()\n",
    "\n",
    "            expert_operator_busy_time_start = self.environment.now #Now started to get service from expert operator\n",
    "            print(f'{self.name} started talking to the expert operator at {self.environment.now}') #prints the customer name and expert's service start time\n",
    "            yield self.environment.timeout(random.expovariate(1 / EXPERT_OPERATOR_SERVICE_TIME_MEAN)) \n",
    "\n",
    "            expert_operator_busy_time_end = self.environment.now #Now finished getting service from expert operator\n",
    "            expert_operator_busy_time += expert_operator_busy_time_end - expert_operator_busy_time_start #Calculate and add the value of service time to expert operator's total service time\n",
    "            print(f'{self.name} finished talking to the expert operator at {self.environment.now}') #prints the customer name and expert's service finish time\n",
    "\n",
    "        total_system_time_end = self.environment.now\n",
    "        total_system_times[self.id] = total_system_time_end - total_system_time_start #Calculate and assign total system time of current customer\n",
    "        Customer.customers_served_or_reneged -= 1 #Customer quit the system, so decrease the number of customers"
   ]
  },
  {
   "cell_type": "markdown",
   "metadata": {},
   "source": [
    "#### Customer Generator Function"
   ]
  },
  {
   "cell_type": "code",
   "execution_count": null,
   "metadata": {},
   "outputs": [],
   "source": [
    "def generate_customers(environment, front_desk_operator, expert_operator):\n",
    "    for i in range(CUSTOMER_COUNT):\n",
    "        Customer(i, environment, front_desk_operator, expert_operator)\n",
    "        yield environment.timeout(random.expovariate(1 / INTER_ARRIVAL_TIME_MEAN)) #Add the exponentially distributed interarrival times between the customers"
   ]
  },
  {
   "cell_type": "markdown",
   "metadata": {},
   "source": [
    "#### Break Generator Function"
   ]
  },
  {
   "cell_type": "code",
   "execution_count": null,
   "metadata": {},
   "outputs": [],
   "source": [
    "def generate_expert_breaks(environment, expert_operator):\n",
    "    while True:\n",
    "        next_break_time = poisson() #Next break time is calculated by Poisson Distribution\n",
    "        try:\n",
    "            yield environment.timeout(next_break_time) #Calling a timeout\n",
    "        except simpy.Interrupt:\n",
    "            environment.exit() #If unsuccessful, then exit\n",
    "\n",
    "        with expert_operator.request() as request:\n",
    "            print(f'Expert operator requested break at {environment.now} after {next_break_time} minutes')\n",
    "            try:\n",
    "                yield request #Expert operator requests a timeout\n",
    "            except simpy.Interrupt:\n",
    "                environment.exit() #If unsuccessful, then exit\n",
    "\n",
    "            print(f'Expert operator started break at {environment.now}')\n",
    "            try:\n",
    "                yield environment.timeout(EXPERT_OPERATOR_BREAK_TIME) #Process the timeout of expert operator\n",
    "            except simpy.Interrupt:\n",
    "                environment.exit() #If unsuccessful, then exit\n",
    "\n",
    "            print(f'Expert operator finished break at {environment.now}')"
   ]
  },
  {
   "cell_type": "markdown",
   "metadata": {},
   "source": [
    "#### Shift Generator Function"
   ]
  },
  {
   "cell_type": "code",
   "execution_count": null,
   "metadata": {},
   "outputs": [],
   "source": [
    "def generate_shifts(environment, expert_break_process):\n",
    "    shift_count = 1\n",
    "    while Customer.customers_served_or_reneged != 0:\n",
    "        print(f'Shift {shift_count} started at {environment.now}')\n",
    "        yield environment.timeout(SHIFT_DURATION) #Process the shift duration time\n",
    "        print(f'Shift {shift_count} ended at {environment.now}')\n",
    "        shift_count += 1 #Update number of shifts\n",
    "    expert_break_process.interrupt()\n",
    "\n",
    "    global total_shift_time\n",
    "    total_shift_time = SHIFT_DURATION * (shift_count - 1)"
   ]
  },
  {
   "cell_type": "markdown",
   "metadata": {},
   "source": [
    "#### Running of the environment"
   ]
  },
  {
   "cell_type": "code",
   "execution_count": null,
   "metadata": {},
   "outputs": [],
   "source": [
    "environment = simpy.Environment()\n",
    "front_desk_operator = simpy.Resource(environment, capacity=1) #There is only one front desk operator\n",
    "expert_operator = simpy.Resource(environment, capacity=1) #There is only one expert operator\n",
    "customer_process = environment.process(generate_customers(environment, front_desk_operator, expert_operator))\n",
    "expert_break_process = environment.process(generate_expert_breaks(environment, expert_operator))\n",
    "shift_process = environment.process(generate_shifts(environment, expert_break_process))\n",
    "environment.run()"
   ]
  },
  {
   "cell_type": "markdown",
   "metadata": {},
   "source": [
    "#### Calculation of Statistics"
   ]
  },
  {
   "cell_type": "code",
   "execution_count": null,
   "metadata": {},
   "outputs": [],
   "source": [
    "# STATS\n",
    "total_waiting_times = [front_desk_operator_waiting_times[i] + expert_operator_waiting_times[i] for i in\n",
    "                       range(CUSTOMER_COUNT)]\n",
    "front_desk_operator_utilization = front_desk_operator_busy_time / total_shift_time\n",
    "expert_operator_utilization = expert_operator_busy_time / total_shift_time\n",
    "avg_total_waiting_time = (sum(total_waiting_times)) / CUSTOMER_COUNT\n",
    "max_waiting_to_system_time_ratio = max([total_waiting_times[i] / total_system_times[i] for i in range(CUSTOMER_COUNT)])\n",
    "avg_expert_operator_queue_length = (sum(expert_operator_waiting_times) / CUSTOMER_COUNT) * (\n",
    "            CUSTOMER_COUNT / total_shift_time)"
   ]
  },
  {
   "cell_type": "markdown",
   "metadata": {},
   "source": [
    "#### Printing the Results"
   ]
  },
  {
   "cell_type": "code",
   "execution_count": null,
   "metadata": {},
   "outputs": [],
   "source": [
    "print('***SIMULATION STATS***')\n",
    "print(f'Utilization of the front-desk operator: {front_desk_operator_utilization}')\n",
    "print(f'Utilization of the expert operator: {expert_operator_utilization}')\n",
    "print(f'Average Total Waiting Time: {avg_total_waiting_time}')\n",
    "print(f'Maximum Total Waiting Time to Total System Time Ratio: {max_waiting_to_system_time_ratio}')\n",
    "print(f'Average number of people waiting to be served by the expert operator: {avg_expert_operator_queue_length}')"
   ]
  }
 ],
 "metadata": {
  "kernelspec": {
   "display_name": "Python 3",
   "language": "python",
   "name": "python3"
  },
  "language_info": {
   "codemirror_mode": {
    "name": "ipython",
    "version": 3
   },
   "file_extension": ".py",
   "mimetype": "text/x-python",
   "name": "python",
   "nbconvert_exporter": "python",
   "pygments_lexer": "ipython3",
   "version": "3.7.1"
  }
 },
 "nbformat": 4,
 "nbformat_minor": 2
}
