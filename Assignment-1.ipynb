{
 "cells": [
  {
   "cell_type": "markdown",
   "metadata": {},
   "source": [
    "# IE 306.02 Assignment 1 \n",
    "\n",
    "## Call Center Simulation"
   ]
  },
  {
   "cell_type": "markdown",
   "metadata": {},
   "source": [
    "Imports of random, numpy and simpy:"
   ]
  },
  {
   "cell_type": "code",
   "execution_count": null,
   "metadata": {},
   "outputs": [],
   "source": [
    "import random\n",
    "import numpy\n",
    "import simpy"
   ]
  },
  {
   "cell_type": "markdown",
   "metadata": {},
   "source": [
    "Initializations of the parameters that characterize the service times of the front desk operator and expert. "
   ]
  },
  {
   "cell_type": "code",
   "execution_count": null,
   "metadata": {},
   "outputs": [],
   "source": [
    "RANDOM_SEED = 978\n",
    "\n",
    "INTERARRIVAL_RATE = 14.3\n",
    "MEAN_RENEGE =  60\n",
    "\n",
    "MEAN_FRONT_DESK = 7.2\n",
    "STD_FRONT_DEKS = 2.7\n",
    "\n",
    "MEAN_EXPERT= 10.2\n",
    "\n",
    "MEAN_BREAK = 60\n",
    "\n",
    "BREAK_DURATION = 3\n",
    "\n",
    "SERVICE_RANGE = [50, 90]\n",
    "random.seed(RANDOM_SEED)"
   ]
  },
  {
   "cell_type": "markdown",
   "metadata": {},
   "source": [
    "Initializations of the arrays that are going to be used for collecting data during the whole process.  \n",
    "HIGH and LOW corresponds to the priorities which are used for \"take break\" operation."
   ]
  },
  {
   "cell_type": "code",
   "execution_count": null,
   "metadata": {},
   "outputs": [],
   "source": [
    "service_times_front_desk = [] \n",
    "service_times_expert = []\n",
    "\n",
    "queue_w_times_front_desk = []\n",
    "queue_w_times_expert = []\n",
    "\n",
    "HIGH = 1\n",
    "LOW = 2\n",
    "\n",
    "CUSTOMER_NUMBER = 1000"
   ]
  },
  {
   "cell_type": "markdown",
   "metadata": {},
   "source": [
    "### Customer Class Definition"
   ]
  },
  {
   "cell_type": "code",
   "execution_count": null,
   "metadata": {},
   "outputs": [],
   "source": [
    "class Customer(object):\n",
    "\n",
    "    total_customer = 0\n",
    "\n",
    "    def __init__(self, name, env, front_desk_operator, expert_operator, action_break_generator):\n",
    "        self.env = env\n",
    "        self.name = name\n",
    "        self.arrival_to_front_desk = None\n",
    "        self.arrival_to_expert = None\n",
    "        self.action = env.process(self.call())\n",
    "        self.action_break_generator = action_break_generator\n",
    "    \n",
    "    def call(self):\n",
    "\n",
    "        Customer.total_customer += 1 #incrementing the number of total customers when a call is arrived\n",
    "        \n",
    "        print('%s initiated a call at %g' % (self.name, self.env.now)) #prints the customer number and current time\n",
    "\n",
    "        self.arrival_to_front_desk = self.env.now #customer now arrived to the front desk\n",
    "\n",
    "        with front_desk_operator.request() as req:\n",
    "\n",
    "            patience = random.expovariate(MEAN_RENEGE) #Renege time of a customer is exponentially distributed\n",
    "\n",
    "            results = yield req | env.timeout(patience) #result is either equal to front desk operators request or renege time\n",
    "\n",
    "            if req in results: #condition of customer being served by front desk operator\n",
    "                print('%s is assigned to the front desk operator at %g' % (self.name, self.env.now))\n",
    "                queue_w_times_front_desk.append(self.env.now - self.arrival_to_front_desk) #Append the waiting time of the current customer to the list of front desk queue\n",
    "                yield self.env.process(self.get_front_desk_service()) #Process the customer's call to front desk operator\n",
    "                print('%s is done with front desk operator at %g' % (self.name, self.env.now))\n",
    "            else: #condition of reneged customer\n",
    "                print('%s is reneged from the queue of the front desk operator at %g' % (self.name, self.env.now))\n",
    "                env.exit()\n",
    "\n",
    "        self.arrival_to_expert = self.env.now #customer now arrived to the expert\n",
    "\n",
    "        with expert_operator.request(priority = HIGH) as req:\n",
    "            \n",
    "            patience = random.expovariate(MEAN_RENEGE) #Renege time of a customer is exponentially distributed\n",
    "\n",
    "            results = yield req | env.timeout(patience) #result is either equal to expert operators request or renege time\n",
    "\n",
    "            if req in results: #condition of customer being served by expert operator\n",
    "                print('%s is assigned to the expert operator at %g' % (self.name, self.env.now))\n",
    "                queue_w_times_expert.append(self.env.now - self.arrival_to_expert) #Append the waiting time of the current customer to the list of expert queue\n",
    "                yield self.env.process(self.get_expert_service()) #Process the customer's call to expert operator\n",
    "                print('%s is done with expert operator at %g' % (self.name, self.env.now))\n",
    "            else: #condition of reneged customer\n",
    "                print('%s is reneged from the queue of the expert operator at %g' % (self.name, self.env.now))\n",
    "                env.exit()\n",
    "\n",
    "        if Customer.total_customer == CUSTOMER_NUMBER and self.action_break_generator.is_alive: #if total customer number became 1000, then interrupt\n",
    "          self.action_break_generator.interrupt()\n",
    "\n",
    "    def get_front_desk_service(self): #the function of front desk operator service\n",
    "        #duration = numpy.random.lognormal(MEAN_FRONT_DESK, STD_FRONT_DEKS)\n",
    "        duration = random.expovariate(MEAN_EXPERT) #Duration of a call on the front desk is exponentially distributed\n",
    "        yield self.env.timeout(duration) #Add the duration of a call on the front desk to the current time\n",
    "        service_times_front_desk.append(duration) #Append the customer to the front desk operator\n",
    "\n",
    "    def get_expert_service(self): # the function of expert operator service\n",
    "        duration = random.expovariate(MEAN_EXPERT) #Duration of a call on the expert operator is exponentially distributed\n",
    "        yield self.env.timeout(duration) #Add the duration of a call on the expert operator to the current time\n",
    "        service_times_expert.append(duration) #Append the customer to the expert operator\n"
   ]
  },
  {
   "cell_type": "markdown",
   "metadata": {},
   "source": [
    "#### Customer Generator Function"
   ]
  },
  {
   "cell_type": "code",
   "execution_count": null,
   "metadata": {},
   "outputs": [],
   "source": [
    "def customer_generator(env, front_desk_operator, expert_operator, action_break_generator):\n",
    "    for i in range(CUSTOMER_NUMBER):\n",
    "        yield env.timeout(random.expovariate(INTERARRIVAL_RATE)) #Add the exponentially distributed interarrival times between the customers\n",
    "        Customer('Cust %s' % (i+1), env, front_desk_operator, expert_operator, action_break_generator)  "
   ]
  },
  {
   "cell_type": "markdown",
   "metadata": {},
   "source": [
    "#### Break Generator Function"
   ]
  },
  {
   "cell_type": "code",
   "execution_count": null,
   "metadata": {},
   "outputs": [],
   "source": [
    "def break_generator(env, front_desk_operator, expert_operator):\n",
    "    try:\n",
    "        while True:\n",
    "            duration = numpy.random.poisson(MEAN_BREAK) #Duration of a break is distributed according to a Poisson distribution\n",
    "            yield env.timeout(duration)\n",
    "            print(\"Expert operator has dediced to give break at\", env.now)\n",
    "            with expert_operator.request(priority = LOW) as req:\n",
    "                yield req\n",
    "                print(\"Expert operator has started to the break at\", env.now)\n",
    "                yield env.timeout(BREAK_DURATION) #Add the break duration to the current time\n",
    "                print(\"Expert operator has finished the break at\", env.now)\n",
    "    except simpy.Interrupt:\n",
    "        print('Expert will no longer give breaks')\n"
   ]
  },
  {
   "cell_type": "markdown",
   "metadata": {},
   "source": [
    "#### Running of the environment"
   ]
  },
  {
   "cell_type": "code",
   "execution_count": null,
   "metadata": {},
   "outputs": [],
   "source": [
    "env = simpy.Environment()\n",
    "front_desk_operator = simpy.Resource(env, capacity = 1) #There is only one front desk operator\n",
    "expert_operator = simpy.PriorityResource(env, capacity = 1) #There is only one expert operator\n",
    "action_break_generator = env.process(break_generator(env, front_desk_operator, expert_operator)) #Process the break operation\n",
    "env.process(customer_generator(env, front_desk_operator, expert_operator, action_break_generator)) #Generate the customers\n",
    "\n",
    "env.run()"
   ]
  }
 ],
 "metadata": {
  "kernelspec": {
   "display_name": "Python 3",
   "language": "python",
   "name": "python3"
  },
  "language_info": {
   "codemirror_mode": {
    "name": "ipython",
    "version": 3
   },
   "file_extension": ".py",
   "mimetype": "text/x-python",
   "name": "python",
   "nbconvert_exporter": "python",
   "pygments_lexer": "ipython3",
   "version": "3.7.1"
  }
 },
 "nbformat": 4,
 "nbformat_minor": 2
}
